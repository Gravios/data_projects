{
 "cells": [
  {
   "cell_type": "code",
   "execution_count": 3,
   "id": "ee43425d-f086-4379-b13e-9ffe13cd308f",
   "metadata": {
    "collapsed": false
   },
   "outputs": [
    {
     "name": "stdout",
     "output_type": "stream",
     "text": [
      "sys.version_info(major=3, minor=8, micro=8, releaselevel='final', serial=0)\n"
     ]
    }
   ],
   "source": [
    "import sys\n",
    "print(sys.version_info)\n",
    "\n",
    "from pandas import DataFrame, read_csv\n",
    "\n",
    "import matplotlib\n",
    "matplotlib.use('nbagg')\n",
    "\n",
    "import matplotlib.pyplot as plt\n",
    "\n",
    "%matplotlib inline"
   ]
  },
  {
   "cell_type": "code",
   "execution_count": 3,
   "id": "a1092a46-abc1-4908-8852-f8f746336b78",
   "metadata": {
    "collapsed": false
   },
   "outputs": [],
   "source": [
    "# Download data "
   ]
  },
  {
   "cell_type": "code",
   "execution_count": 4,
   "id": "c1d462b3-00be-4905-b8f0-05804b7fc3b7",
   "metadata": {
    "collapsed": false
   },
   "outputs": [],
   "source": [
    "# Load data into a data frame\n",
    "#data = read_csv('./vadrup/subdaily/produkt_n_termin_19891001_20211231_01766.txt');\n",
    "data = read_csv('./vadrup/daily/produkt_st_tag_19770101_20011231_03815.txt',sep=';',header=0);"
   ]
  },
  {
   "cell_type": "code",
   "execution_count": 5,
   "id": "be903259-a5db-45fa-8cd7-dc5570ffbacf",
   "metadata": {
    "collapsed": false
   },
   "outputs": [
    {
     "data": {
      "text/html": [
       "<div>\n",
       "<style scoped>\n",
       "    .dataframe tbody tr th:only-of-type {\n",
       "        vertical-align: middle;\n",
       "    }\n",
       "\n",
       "    .dataframe tbody tr th {\n",
       "        vertical-align: top;\n",
       "    }\n",
       "\n",
       "    .dataframe thead th {\n",
       "        text-align: right;\n",
       "    }\n",
       "</style>\n",
       "<table border=\"1\" class=\"dataframe\">\n",
       "  <thead>\n",
       "    <tr style=\"text-align: right;\">\n",
       "      <th></th>\n",
       "      <th>STATIONS_ID</th>\n",
       "      <th>MESS_DATUM</th>\n",
       "      <th>QN_592</th>\n",
       "      <th>ATMO_STRAHL</th>\n",
       "      <th>FD_STRAHL</th>\n",
       "      <th>FG_STRAHL</th>\n",
       "      <th>SD_STRAHL</th>\n",
       "      <th>eor</th>\n",
       "    </tr>\n",
       "  </thead>\n",
       "  <tbody>\n",
       "    <tr>\n",
       "      <th>0</th>\n",
       "      <td>3815</td>\n",
       "      <td>19770101</td>\n",
       "      <td>1</td>\n",
       "      <td>-999</td>\n",
       "      <td>-999.0</td>\n",
       "      <td>-999.0</td>\n",
       "      <td>0.0</td>\n",
       "      <td>eor</td>\n",
       "    </tr>\n",
       "    <tr>\n",
       "      <th>1</th>\n",
       "      <td>3815</td>\n",
       "      <td>19770102</td>\n",
       "      <td>1</td>\n",
       "      <td>-999</td>\n",
       "      <td>-999.0</td>\n",
       "      <td>-999.0</td>\n",
       "      <td>0.0</td>\n",
       "      <td>eor</td>\n",
       "    </tr>\n",
       "    <tr>\n",
       "      <th>2</th>\n",
       "      <td>3815</td>\n",
       "      <td>19770103</td>\n",
       "      <td>1</td>\n",
       "      <td>-999</td>\n",
       "      <td>-999.0</td>\n",
       "      <td>-999.0</td>\n",
       "      <td>0.0</td>\n",
       "      <td>eor</td>\n",
       "    </tr>\n",
       "    <tr>\n",
       "      <th>3</th>\n",
       "      <td>3815</td>\n",
       "      <td>19770104</td>\n",
       "      <td>1</td>\n",
       "      <td>-999</td>\n",
       "      <td>-999.0</td>\n",
       "      <td>-999.0</td>\n",
       "      <td>0.0</td>\n",
       "      <td>eor</td>\n",
       "    </tr>\n",
       "    <tr>\n",
       "      <th>4</th>\n",
       "      <td>3815</td>\n",
       "      <td>19770105</td>\n",
       "      <td>1</td>\n",
       "      <td>-999</td>\n",
       "      <td>-999.0</td>\n",
       "      <td>-999.0</td>\n",
       "      <td>0.0</td>\n",
       "      <td>eor</td>\n",
       "    </tr>\n",
       "    <tr>\n",
       "      <th>...</th>\n",
       "      <td>...</td>\n",
       "      <td>...</td>\n",
       "      <td>...</td>\n",
       "      <td>...</td>\n",
       "      <td>...</td>\n",
       "      <td>...</td>\n",
       "      <td>...</td>\n",
       "      <td>...</td>\n",
       "    </tr>\n",
       "    <tr>\n",
       "      <th>9095</th>\n",
       "      <td>3815</td>\n",
       "      <td>20011227</td>\n",
       "      <td>1</td>\n",
       "      <td>-999</td>\n",
       "      <td>-999.0</td>\n",
       "      <td>-999.0</td>\n",
       "      <td>-999.0</td>\n",
       "      <td>eor</td>\n",
       "    </tr>\n",
       "    <tr>\n",
       "      <th>9096</th>\n",
       "      <td>3815</td>\n",
       "      <td>20011228</td>\n",
       "      <td>1</td>\n",
       "      <td>-999</td>\n",
       "      <td>-999.0</td>\n",
       "      <td>-999.0</td>\n",
       "      <td>-999.0</td>\n",
       "      <td>eor</td>\n",
       "    </tr>\n",
       "    <tr>\n",
       "      <th>9097</th>\n",
       "      <td>3815</td>\n",
       "      <td>20011229</td>\n",
       "      <td>1</td>\n",
       "      <td>-999</td>\n",
       "      <td>-999.0</td>\n",
       "      <td>-999.0</td>\n",
       "      <td>-999.0</td>\n",
       "      <td>eor</td>\n",
       "    </tr>\n",
       "    <tr>\n",
       "      <th>9098</th>\n",
       "      <td>3815</td>\n",
       "      <td>20011230</td>\n",
       "      <td>1</td>\n",
       "      <td>-999</td>\n",
       "      <td>-999.0</td>\n",
       "      <td>-999.0</td>\n",
       "      <td>-999.0</td>\n",
       "      <td>eor</td>\n",
       "    </tr>\n",
       "    <tr>\n",
       "      <th>9099</th>\n",
       "      <td>3815</td>\n",
       "      <td>20011231</td>\n",
       "      <td>1</td>\n",
       "      <td>-999</td>\n",
       "      <td>-999.0</td>\n",
       "      <td>-999.0</td>\n",
       "      <td>-999.0</td>\n",
       "      <td>eor</td>\n",
       "    </tr>\n",
       "  </tbody>\n",
       "</table>\n",
       "<p>9100 rows × 8 columns</p>\n",
       "</div>"
      ],
      "text/plain": [
       "      STATIONS_ID  MESS_DATUM  QN_592  ATMO_STRAHL  FD_STRAHL  FG_STRAHL  \\\n",
       "0            3815    19770101       1         -999     -999.0     -999.0   \n",
       "1            3815    19770102       1         -999     -999.0     -999.0   \n",
       "2            3815    19770103       1         -999     -999.0     -999.0   \n",
       "3            3815    19770104       1         -999     -999.0     -999.0   \n",
       "4            3815    19770105       1         -999     -999.0     -999.0   \n",
       "...           ...         ...     ...          ...        ...        ...   \n",
       "9095         3815    20011227       1         -999     -999.0     -999.0   \n",
       "9096         3815    20011228       1         -999     -999.0     -999.0   \n",
       "9097         3815    20011229       1         -999     -999.0     -999.0   \n",
       "9098         3815    20011230       1         -999     -999.0     -999.0   \n",
       "9099         3815    20011231       1         -999     -999.0     -999.0   \n",
       "\n",
       "      SD_STRAHL  eor  \n",
       "0           0.0  eor  \n",
       "1           0.0  eor  \n",
       "2           0.0  eor  \n",
       "3           0.0  eor  \n",
       "4           0.0  eor  \n",
       "...         ...  ...  \n",
       "9095     -999.0  eor  \n",
       "9096     -999.0  eor  \n",
       "9097     -999.0  eor  \n",
       "9098     -999.0  eor  \n",
       "9099     -999.0  eor  \n",
       "\n",
       "[9100 rows x 8 columns]"
      ]
     },
     "execution_count": 5,
     "metadata": {},
     "output_type": "execute_result"
    }
   ],
   "source": [
    "# Extract the mean sun light given the month of the year\n",
    "data"
   ]
  },
  {
   "cell_type": "code",
   "execution_count": 6,
   "id": "6fc89fdf-b734-458c-85dd-2bea428585f2",
   "metadata": {
    "collapsed": false
   },
   "outputs": [
    {
     "data": {
      "image/png": "[encoded data removed]",
      "text/plain": [
       "<Figure size 432x288 with 1 Axes>"
      ]
     },
     "metadata": {
      "needs_background": "light"
     },
     "output_type": "display_data"
    }
   ],
   "source": [
    "plt.plot(range(0,9100),data['FG_STRAHL'])\n",
    "plt.xlim([2000,2365])\n",
    "plt.show();\n"
   ]
  },
  {
   "cell_type": "code",
   "execution_count": 7,
   "id": "68f22157-83a0-41d9-9038-48f90fdbd58c",
   "metadata": {
    "collapsed": false
   },
   "outputs": [
    {
     "data": {
      "text/plain": [
       "pandas.core.frame.DataFrame"
      ]
     },
     "execution_count": 7,
     "metadata": {},
     "output_type": "execute_result"
    }
   ],
   "source": [
    "type(data)\n"
   ]
  },
  {
   "cell_type": "code",
   "execution_count": null,
   "id": "95a7a3c1-285b-415a-b465-8b43f6a31d4f",
   "metadata": {
    "collapsed": false
   },
   "outputs": [],
   "source": []
  }
 ],
 "metadata": {
  "kernelspec": {
   "argv": [
    "python",
    "-m",
    "ipykernel_launcher",
    "-f",
    "{connection_file}"
   ],
   "display_name": "Python 3",
   "env": null,
   "interrupt_mode": "signal",
   "language": "python",
   "metadata": null,
   "name": "python3"
  },
  "language_info": {
   "codemirror_mode": {
    "name": "ipython",
    "version": 3
   },
   "file_extension": ".py",
   "mimetype": "text/x-python",
   "name": "python",
   "nbconvert_exporter": "python",
   "pygments_lexer": "ipython3",
   "version": "3.8.8"
  },
  "name": "Untitled.ipynb"
 },
 "nbformat": 4,
 "nbformat_minor": 5
}
